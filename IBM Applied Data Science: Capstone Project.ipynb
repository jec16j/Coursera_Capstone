{
    "cells": [
        {
            "cell_type": "markdown",
            "metadata": {
                "collapsed": true
            },
            "source": "# The Battle of the Neighborhoods: Sunshine State\n\n\n## Introduction/Business Problem \nFlorida, aka the Sunshine State, is the third most populous state in the United States, with a population over 21 million (U.S. Census Bureau). \n\nOrlando and Jacksonville are two of the most popular cities in Florida. Orlando is located in Central Florida and is largely known for its high volumes of tourism. Orlando attracts tourist through attractions, such as Walt Disney World and Universal Studios, as well as being at popular location for conferences and conventions. Jacksonville is approximately 140 miles northwest of Orlando and is the most populous municipality in Florida. Jacksonville also attracts tourist with its beautiful beaches along the Atlantic Coast, as well as golf tourism.\n\nThis study is being conducted in order to assist a group of investors in determining which Florida city, Orlando or Jacksonville, would be best suited for their business. \n\n## Data\nIn order to recommend one of the two cities to the investors, we must analyze data on both Orlando and Jacksonville. We will consider the following factors in our decision:\n1. Population size \n2. Crime statistics\n3. Other venues in the area\n   \n\n**Data Sources:** \n\n1. *<a href=\"https://www.fdle.state.fl.us/FSAC/Data-Statistics/UCR-Offense-Data.aspx\" target=\"_blank\">Florida Department of Law Enforcement</a>*\n        The data is provided by the FDLE's Uniform Crime Report (UCR) system. This system provides \"standardized reports on crime statistics based on data gathered from across the state. Reports that provide both summary and detail information are issued semi-annually and annually.\" We will be using the Total Index Crime for Florida by Jurisdiction, 2019 data to evaluate the population and level of crime present in each city. \n    \n2. *Geocoder package*\n        The Geocodes package finds the latitude and longitude of a location using the Google Geocoding API. This is used to identify the geographic coordinates of the two cities.\n\n3. *<a href=\"https://foursquare.com/\" target=\"_blank\">Foursquare</a>*\n        The Foursquare API provides location based data on venues and users. This tool will be used to analyze current venues that may be considered competition.\n    "
        },
        {
            "cell_type": "markdown",
            "metadata": {},
            "source": "## Methodology\n\nIn order to determine the optimal city for opening a business , we will analysis different characteristics of both cities being considered."
        },
        {
            "cell_type": "markdown",
            "metadata": {},
            "source": "### Exploratory Data Analysis\n\nWe will begin by looking at the population and safety of both of the cities. To do so we must first import the necessary libraries."
        },
        {
            "cell_type": "code",
            "execution_count": 1,
            "metadata": {
                "scrolled": true
            },
            "outputs": [
                {
                    "name": "stdout",
                    "output_type": "stream",
                    "text": "Requirement already satisfied: geopy in /opt/conda/envs/Python36/lib/python3.6/site-packages (1.22.0)\nRequirement already satisfied: geographiclib<2,>=1.49 in /opt/conda/envs/Python36/lib/python3.6/site-packages (from geopy) (1.50)\nSolving environment: done\n\n# All requested packages already installed.\n\nSolving environment: done\n\n# All requested packages already installed.\n\nLibraries imported.\n"
                }
            ],
            "source": "# Importing necessary libraries \n!pip install geopy\nimport numpy as np # library to handle data in a vectorized manner\n\nimport pandas as pd # library for data analsysis\npd.set_option('display.max_columns', None)\npd.set_option('display.max_rows', None)\n\nimport json # library to handle JSON files\n\n!conda install -c conda-forge geopy --yes \nfrom geopy.geocoders import Nominatim # convert an address into latitude and longitude values\n\nimport requests # library to handle requests\nfrom pandas.io.json import json_normalize # transform JSON file into a pandas dataframe\n\n# Matplotlib and associated plotting modules\nimport matplotlib.cm as cm\nimport matplotlib.colors as colors\n\n# import k-means from clustering stage\nfrom sklearn.cluster import KMeans\n\n!conda install -c conda-forge folium=0.5.0 --yes \nimport folium # map rendering library\n\nprint('Libraries imported.')"
        },
        {
            "cell_type": "markdown",
            "metadata": {},
            "source": "We begin looking at our Total Index Crime for Florida by Jurisdiction (2019) data provided by the Florida Department of Law Enforcement."
        },
        {
            "cell_type": "code",
            "execution_count": 4,
            "metadata": {},
            "outputs": [
                {
                    "data": {
                        "text/html": "<div>\n<style scoped>\n    .dataframe tbody tr th:only-of-type {\n        vertical-align: middle;\n    }\n\n    .dataframe tbody tr th {\n        vertical-align: top;\n    }\n\n    .dataframe thead th {\n        text-align: right;\n    }\n</style>\n<table border=\"1\" class=\"dataframe\">\n  <thead>\n    <tr style=\"text-align: right;\">\n      <th></th>\n      <th>County</th>\n      <th>Agency</th>\n      <th>Year</th>\n      <th>Population</th>\n      <th>Total Index Crimes</th>\n      <th>Crime Rate per 100,000 Population</th>\n      <th>Murder</th>\n      <th>Murder Clearances</th>\n      <th>Rape^</th>\n      <th>Rape Clearances</th>\n      <th>Robbery</th>\n      <th>Robbery Clearances</th>\n      <th>Aggravated Assault^^</th>\n      <th>Aggravated Assault Clearances</th>\n      <th>Burglary</th>\n      <th>Burglary Clearances</th>\n      <th>Larceny</th>\n      <th>Larceny Clearances</th>\n      <th>Motor Vehicle Theft</th>\n      <th>Motor Vehicle Theft Clearances</th>\n      <th>Total Clearances</th>\n      <th>Clearance Rate per 100 Offenses</th>\n    </tr>\n  </thead>\n  <tbody>\n    <tr>\n      <th>0</th>\n      <td>01-ALACHUA</td>\n      <td>Alachua County Sheriff's Office</td>\n      <td>2019.0</td>\n      <td>117496.0</td>\n      <td>2555</td>\n      <td>2174.5</td>\n      <td>4</td>\n      <td>6</td>\n      <td>111</td>\n      <td>40</td>\n      <td>99</td>\n      <td>57</td>\n      <td>524</td>\n      <td>269</td>\n      <td>414</td>\n      <td>59</td>\n      <td>1260</td>\n      <td>146</td>\n      <td>143</td>\n      <td>37</td>\n      <td>614</td>\n      <td>24</td>\n    </tr>\n    <tr>\n      <th>1</th>\n      <td>01-ALACHUA</td>\n      <td>Gainesville Police Department</td>\n      <td>2019.0</td>\n      <td>133068.0</td>\n      <td>5640</td>\n      <td>4238.4</td>\n      <td>2</td>\n      <td>1</td>\n      <td>153</td>\n      <td>39</td>\n      <td>185</td>\n      <td>74</td>\n      <td>588</td>\n      <td>275</td>\n      <td>501</td>\n      <td>78</td>\n      <td>3803</td>\n      <td>893</td>\n      <td>408</td>\n      <td>89</td>\n      <td>1449</td>\n      <td>25.7</td>\n    </tr>\n    <tr>\n      <th>2</th>\n      <td>01-ALACHUA</td>\n      <td>High Springs Police Department</td>\n      <td>2019.0</td>\n      <td>6444.0</td>\n      <td>180</td>\n      <td>2793.3</td>\n      <td>0</td>\n      <td>0</td>\n      <td>3</td>\n      <td>2</td>\n      <td>1</td>\n      <td>1</td>\n      <td>24</td>\n      <td>11</td>\n      <td>34</td>\n      <td>6</td>\n      <td>110</td>\n      <td>34</td>\n      <td>8</td>\n      <td>6</td>\n      <td>60</td>\n      <td>33.3</td>\n    </tr>\n    <tr>\n      <th>3</th>\n      <td>01-ALACHUA</td>\n      <td>University of Florida Police Department</td>\n      <td>2019.0</td>\n      <td>0.0</td>\n      <td>318</td>\n      <td>NaN</td>\n      <td>0</td>\n      <td>0</td>\n      <td>10</td>\n      <td>0</td>\n      <td>1</td>\n      <td>1</td>\n      <td>5</td>\n      <td>3</td>\n      <td>22</td>\n      <td>6</td>\n      <td>258</td>\n      <td>50</td>\n      <td>22</td>\n      <td>7</td>\n      <td>67</td>\n      <td>21.1</td>\n    </tr>\n    <tr>\n      <th>4</th>\n      <td>01-ALACHUA</td>\n      <td>Alachua Police Department</td>\n      <td>2019.0</td>\n      <td>10298.0</td>\n      <td>271</td>\n      <td>2631.6</td>\n      <td>0</td>\n      <td>0</td>\n      <td>4</td>\n      <td>2</td>\n      <td>7</td>\n      <td>6</td>\n      <td>30</td>\n      <td>13</td>\n      <td>32</td>\n      <td>3</td>\n      <td>191</td>\n      <td>32</td>\n      <td>7</td>\n      <td>1</td>\n      <td>57</td>\n      <td>21</td>\n    </tr>\n  </tbody>\n</table>\n</div>",
                        "text/plain": "       County                                   Agency    Year  Population  \\\n0  01-ALACHUA          Alachua County Sheriff's Office  2019.0    117496.0   \n1  01-ALACHUA            Gainesville Police Department  2019.0    133068.0   \n2  01-ALACHUA           High Springs Police Department  2019.0      6444.0   \n3  01-ALACHUA  University of Florida Police Department  2019.0         0.0   \n4  01-ALACHUA                Alachua Police Department  2019.0     10298.0   \n\n  Total Index Crimes Crime Rate per 100,000 Population Murder  \\\n0               2555                            2174.5      4   \n1               5640                            4238.4      2   \n2                180                            2793.3      0   \n3                318                               NaN      0   \n4                271                            2631.6      0   \n\n  Murder Clearances Rape^ Rape Clearances Robbery Robbery Clearances  \\\n0                 6   111              40      99                 57   \n1                 1   153              39     185                 74   \n2                 0     3               2       1                  1   \n3                 0    10               0       1                  1   \n4                 0     4               2       7                  6   \n\n  Aggravated Assault^^ Aggravated Assault Clearances Burglary  \\\n0                  524                           269      414   \n1                  588                           275      501   \n2                   24                            11       34   \n3                    5                             3       22   \n4                   30                            13       32   \n\n  Burglary Clearances Larceny Larceny Clearances Motor Vehicle Theft  \\\n0                  59    1260                146                 143   \n1                  78    3803                893                 408   \n2                   6     110                 34                   8   \n3                   6     258                 50                  22   \n4                   3     191                 32                   7   \n\n  Motor Vehicle Theft Clearances Total Clearances  \\\n0                             37              614   \n1                             89             1449   \n2                              6               60   \n3                              7               67   \n4                              1               57   \n\n  Clearance Rate per 100 Offenses  \n0                              24  \n1                            25.7  \n2                            33.3  \n3                            21.1  \n4                              21  "
                    },
                    "execution_count": 4,
                    "metadata": {},
                    "output_type": "execute_result"
                }
            ],
            "source": "#Downloading data into dataframes using Pandas library\norl_jax=pd.read_excel('https://github.com/jec16j/Coursera_Capstone/blob/master/FL_Index_Crime_by_Jurisdiction_2019.xlsx?raw=true')\norl_jax.head()"
        },
        {
            "cell_type": "markdown",
            "metadata": {},
            "source": "We see that this data provides information on a county/agency level. We observe 2019 data on the population of each county as well as the Total Index Crimes, Crime Rate per 100,000 Population, and then specifications on the type of crime and their clearance rates such as: Murder, Murder Clearances,\tRape, Rape Clearances, Robbery,\tRobbery Clearances,\tAggravated Assault, Aggravated Assault Clearances, Burglary, Burglary Clearances, Larceny, Larceny Clearances,\tMotor Vehicle Theft, Motor Vehicle Theft Clearances, Total Clearances, and Clearance Rate per 100 Offenses. \n\nFor this analysis we will focus the population and total crime rate per 100,000 residents, for Orlando and Jacksonville. We will look at data from the Orlando Police Department and Jacksonville Sheriff's Office. "
        },
        {
            "cell_type": "code",
            "execution_count": 7,
            "metadata": {},
            "outputs": [
                {
                    "ename": "KeyError",
                    "evalue": "\"None of [Index(['Orlando Police Department', 'Jacksonville Sheriff's Office'], dtype='object')] are in the [index]\"",
                    "output_type": "error",
                    "traceback": [
                        "\u001b[0;31m---------------------------------------------------------------------------\u001b[0m",
                        "\u001b[0;31mKeyError\u001b[0m                                  Traceback (most recent call last)",
                        "\u001b[0;32m<ipython-input-7-421c79974c73>\u001b[0m in \u001b[0;36m<module>\u001b[0;34m\u001b[0m\n\u001b[1;32m      3\u001b[0m \u001b[0mrows\u001b[0m\u001b[0;34m=\u001b[0m\u001b[0;34m[\u001b[0m\u001b[0;34m\"Orlando Police Department\"\u001b[0m\u001b[0;34m,\u001b[0m \u001b[0;34m\"Jacksonville Sheriff's Office\"\u001b[0m\u001b[0;34m]\u001b[0m\u001b[0;34m\u001b[0m\u001b[0;34m\u001b[0m\u001b[0m\n\u001b[1;32m      4\u001b[0m \u001b[0mcolumns\u001b[0m\u001b[0;34m=\u001b[0m\u001b[0;34m[\u001b[0m\u001b[0;34m'Population'\u001b[0m\u001b[0;34m,\u001b[0m\u001b[0;34m'Total Index Crimes'\u001b[0m\u001b[0;34m,\u001b[0m\u001b[0;34m'Crime Rate per 100,000 Population'\u001b[0m\u001b[0;34m]\u001b[0m\u001b[0;34m\u001b[0m\u001b[0;34m\u001b[0m\u001b[0m\n\u001b[0;32m----> 5\u001b[0;31m \u001b[0morl_jax\u001b[0m\u001b[0;34m.\u001b[0m\u001b[0mloc\u001b[0m\u001b[0;34m[\u001b[0m\u001b[0mrows\u001b[0m\u001b[0;34m,\u001b[0m\u001b[0mcolumns\u001b[0m\u001b[0;34m]\u001b[0m\u001b[0;34m\u001b[0m\u001b[0;34m\u001b[0m\u001b[0m\n\u001b[0m",
                        "\u001b[0;32m/opt/conda/envs/Python36/lib/python3.6/site-packages/pandas/core/indexing.py\u001b[0m in \u001b[0;36m__getitem__\u001b[0;34m(self, key)\u001b[0m\n\u001b[1;32m   1492\u001b[0m             \u001b[0;32mexcept\u001b[0m \u001b[0;34m(\u001b[0m\u001b[0mKeyError\u001b[0m\u001b[0;34m,\u001b[0m \u001b[0mIndexError\u001b[0m\u001b[0;34m,\u001b[0m \u001b[0mAttributeError\u001b[0m\u001b[0;34m)\u001b[0m\u001b[0;34m:\u001b[0m\u001b[0;34m\u001b[0m\u001b[0;34m\u001b[0m\u001b[0m\n\u001b[1;32m   1493\u001b[0m                 \u001b[0;32mpass\u001b[0m\u001b[0;34m\u001b[0m\u001b[0;34m\u001b[0m\u001b[0m\n\u001b[0;32m-> 1494\u001b[0;31m             \u001b[0;32mreturn\u001b[0m \u001b[0mself\u001b[0m\u001b[0;34m.\u001b[0m\u001b[0m_getitem_tuple\u001b[0m\u001b[0;34m(\u001b[0m\u001b[0mkey\u001b[0m\u001b[0;34m)\u001b[0m\u001b[0;34m\u001b[0m\u001b[0;34m\u001b[0m\u001b[0m\n\u001b[0m\u001b[1;32m   1495\u001b[0m         \u001b[0;32melse\u001b[0m\u001b[0;34m:\u001b[0m\u001b[0;34m\u001b[0m\u001b[0;34m\u001b[0m\u001b[0m\n\u001b[1;32m   1496\u001b[0m             \u001b[0;31m# we by definition only have the 0th axis\u001b[0m\u001b[0;34m\u001b[0m\u001b[0;34m\u001b[0m\u001b[0;34m\u001b[0m\u001b[0m\n",
                        "\u001b[0;32m/opt/conda/envs/Python36/lib/python3.6/site-packages/pandas/core/indexing.py\u001b[0m in \u001b[0;36m_getitem_tuple\u001b[0;34m(self, tup)\u001b[0m\n\u001b[1;32m    875\u001b[0m         \u001b[0;31m# ugly hack for GH #836\u001b[0m\u001b[0;34m\u001b[0m\u001b[0;34m\u001b[0m\u001b[0;34m\u001b[0m\u001b[0m\n\u001b[1;32m    876\u001b[0m         \u001b[0;32mif\u001b[0m \u001b[0mself\u001b[0m\u001b[0;34m.\u001b[0m\u001b[0m_multi_take_opportunity\u001b[0m\u001b[0;34m(\u001b[0m\u001b[0mtup\u001b[0m\u001b[0;34m)\u001b[0m\u001b[0;34m:\u001b[0m\u001b[0;34m\u001b[0m\u001b[0;34m\u001b[0m\u001b[0m\n\u001b[0;32m--> 877\u001b[0;31m             \u001b[0;32mreturn\u001b[0m \u001b[0mself\u001b[0m\u001b[0;34m.\u001b[0m\u001b[0m_multi_take\u001b[0m\u001b[0;34m(\u001b[0m\u001b[0mtup\u001b[0m\u001b[0;34m)\u001b[0m\u001b[0;34m\u001b[0m\u001b[0;34m\u001b[0m\u001b[0m\n\u001b[0m\u001b[1;32m    878\u001b[0m \u001b[0;34m\u001b[0m\u001b[0m\n\u001b[1;32m    879\u001b[0m         \u001b[0;31m# no shortcut needed\u001b[0m\u001b[0;34m\u001b[0m\u001b[0;34m\u001b[0m\u001b[0;34m\u001b[0m\u001b[0m\n",
                        "\u001b[0;32m/opt/conda/envs/Python36/lib/python3.6/site-packages/pandas/core/indexing.py\u001b[0m in \u001b[0;36m_multi_take\u001b[0;34m(self, tup)\u001b[0m\n\u001b[1;32m    932\u001b[0m         \u001b[0mo\u001b[0m \u001b[0;34m=\u001b[0m \u001b[0mself\u001b[0m\u001b[0;34m.\u001b[0m\u001b[0mobj\u001b[0m\u001b[0;34m\u001b[0m\u001b[0;34m\u001b[0m\u001b[0m\n\u001b[1;32m    933\u001b[0m         d = {axis: self._get_listlike_indexer(key, axis)\n\u001b[0;32m--> 934\u001b[0;31m              for (key, axis) in zip(tup, o._AXIS_ORDERS)}\n\u001b[0m\u001b[1;32m    935\u001b[0m         \u001b[0;32mreturn\u001b[0m \u001b[0mo\u001b[0m\u001b[0;34m.\u001b[0m\u001b[0m_reindex_with_indexers\u001b[0m\u001b[0;34m(\u001b[0m\u001b[0md\u001b[0m\u001b[0;34m,\u001b[0m \u001b[0mcopy\u001b[0m\u001b[0;34m=\u001b[0m\u001b[0;32mTrue\u001b[0m\u001b[0;34m,\u001b[0m \u001b[0mallow_dups\u001b[0m\u001b[0;34m=\u001b[0m\u001b[0;32mTrue\u001b[0m\u001b[0;34m)\u001b[0m\u001b[0;34m\u001b[0m\u001b[0;34m\u001b[0m\u001b[0m\n\u001b[1;32m    936\u001b[0m \u001b[0;34m\u001b[0m\u001b[0m\n",
                        "\u001b[0;32m/opt/conda/envs/Python36/lib/python3.6/site-packages/pandas/core/indexing.py\u001b[0m in \u001b[0;36m<dictcomp>\u001b[0;34m(.0)\u001b[0m\n\u001b[1;32m    932\u001b[0m         \u001b[0mo\u001b[0m \u001b[0;34m=\u001b[0m \u001b[0mself\u001b[0m\u001b[0;34m.\u001b[0m\u001b[0mobj\u001b[0m\u001b[0;34m\u001b[0m\u001b[0;34m\u001b[0m\u001b[0m\n\u001b[1;32m    933\u001b[0m         d = {axis: self._get_listlike_indexer(key, axis)\n\u001b[0;32m--> 934\u001b[0;31m              for (key, axis) in zip(tup, o._AXIS_ORDERS)}\n\u001b[0m\u001b[1;32m    935\u001b[0m         \u001b[0;32mreturn\u001b[0m \u001b[0mo\u001b[0m\u001b[0;34m.\u001b[0m\u001b[0m_reindex_with_indexers\u001b[0m\u001b[0;34m(\u001b[0m\u001b[0md\u001b[0m\u001b[0;34m,\u001b[0m \u001b[0mcopy\u001b[0m\u001b[0;34m=\u001b[0m\u001b[0;32mTrue\u001b[0m\u001b[0;34m,\u001b[0m \u001b[0mallow_dups\u001b[0m\u001b[0;34m=\u001b[0m\u001b[0;32mTrue\u001b[0m\u001b[0;34m)\u001b[0m\u001b[0;34m\u001b[0m\u001b[0;34m\u001b[0m\u001b[0m\n\u001b[1;32m    936\u001b[0m \u001b[0;34m\u001b[0m\u001b[0m\n",
                        "\u001b[0;32m/opt/conda/envs/Python36/lib/python3.6/site-packages/pandas/core/indexing.py\u001b[0m in \u001b[0;36m_get_listlike_indexer\u001b[0;34m(self, key, axis, raise_missing)\u001b[0m\n\u001b[1;32m   1159\u001b[0m         self._validate_read_indexer(keyarr, indexer,\n\u001b[1;32m   1160\u001b[0m                                     \u001b[0mo\u001b[0m\u001b[0;34m.\u001b[0m\u001b[0m_get_axis_number\u001b[0m\u001b[0;34m(\u001b[0m\u001b[0maxis\u001b[0m\u001b[0;34m)\u001b[0m\u001b[0;34m,\u001b[0m\u001b[0;34m\u001b[0m\u001b[0;34m\u001b[0m\u001b[0m\n\u001b[0;32m-> 1161\u001b[0;31m                                     raise_missing=raise_missing)\n\u001b[0m\u001b[1;32m   1162\u001b[0m         \u001b[0;32mreturn\u001b[0m \u001b[0mkeyarr\u001b[0m\u001b[0;34m,\u001b[0m \u001b[0mindexer\u001b[0m\u001b[0;34m\u001b[0m\u001b[0;34m\u001b[0m\u001b[0m\n\u001b[1;32m   1163\u001b[0m \u001b[0;34m\u001b[0m\u001b[0m\n",
                        "\u001b[0;32m/opt/conda/envs/Python36/lib/python3.6/site-packages/pandas/core/indexing.py\u001b[0m in \u001b[0;36m_validate_read_indexer\u001b[0;34m(self, key, indexer, axis, raise_missing)\u001b[0m\n\u001b[1;32m   1244\u001b[0m                 raise KeyError(\n\u001b[1;32m   1245\u001b[0m                     u\"None of [{key}] are in the [{axis}]\".format(\n\u001b[0;32m-> 1246\u001b[0;31m                         key=key, axis=self.obj._get_axis_name(axis)))\n\u001b[0m\u001b[1;32m   1247\u001b[0m \u001b[0;34m\u001b[0m\u001b[0m\n\u001b[1;32m   1248\u001b[0m             \u001b[0;31m# We (temporarily) allow for some missing keys with .loc, except in\u001b[0m\u001b[0;34m\u001b[0m\u001b[0;34m\u001b[0m\u001b[0;34m\u001b[0m\u001b[0m\n",
                        "\u001b[0;31mKeyError\u001b[0m: \"None of [Index(['Orlando Police Department', 'Jacksonville Sheriff's Office'], dtype='object')] are in the [index]\""
                    ]
                }
            ],
            "source": "#Selecting the data we need\norl_jax.set_index('Agency')\nrows=[192, ] \ncolumns=['Population','Total Index Crimes','Crime Rate per 100,000 Population']\norl_jax.loc[rows,columns]"
        },
        {
            "cell_type": "markdown",
            "metadata": {},
            "source": "The data we obtained gives us information of the safety of each of these Florida cities. While we see that the total index of crimes in Jacksonville Florida are double that of Orlando FL, the population of Jacksonville more than triples that of Orlando. The crime rate per 100,000 people in the population makes comparing the safety of both cities easier. Jacksonville's crime rate is substantially lower therefore we determine that Jacksonville is the safer city. Jacksonville also has the largest population which is beneficial to new business owners who will need to ensure they have a large amount of potential customers. Both of these things will be important to make investors aware of before they make their decision. "
        },
        {
            "cell_type": "markdown",
            "metadata": {},
            "source": "We will now visualize our data by creating a map using Folium to better see where in Florida both of these cities are located."
        },
        {
            "cell_type": "code",
            "execution_count": null,
            "metadata": {},
            "outputs": [],
            "source": "#Using Nominatim from geopy.geocoders to obtain the logititudes and latitudes of both cities \ngeolocator = Nominatim(user_agent=\"cruzerj10@gmail.com\")\norl = geolocator.geocode(\"Orlando FL\")\njax = geolocator.geocode(\"Jacksonville FL\")\nprint(\"Orlando, FL:\", (orl.latitude, orl.longitude))\nprint(\"Jacksonville, FL:\",(jax.latitude, jax.longitude))"
        },
        {
            "cell_type": "code",
            "execution_count": null,
            "metadata": {},
            "outputs": [],
            "source": "#Creating a dataframe in pandas to store our location data cleanly \na={'City': [\"Orlando\",\"Jacksonville\"], \"Latitude\":[(orl.latitude),(jax.latitude)],\"Longitude\":[(orl.longitude),(jax.longitude)]}\ngeodf=pd.DataFrame(data=a)\ngeodf"
        },
        {
            "cell_type": "code",
            "execution_count": null,
            "metadata": {},
            "outputs": [],
            "source": "#Obtaining the latitude and longitude of Florida for our map\nlocation = geolocator.geocode(\"Florida USA\")\nlatitude = location.latitude\nlongitude = location.longitude"
        },
        {
            "cell_type": "code",
            "execution_count": null,
            "metadata": {},
            "outputs": [],
            "source": "#City = geodf[\"City\"]"
        },
        {
            "cell_type": "code",
            "execution_count": null,
            "metadata": {},
            "outputs": [],
            "source": "#Generating a map using Folium\nmap_florida = folium.Map(location=[latitude,longitude], zoom_start=6)\n\n# add markers to map\nfor lat, lng, neighborhood in zip(geodf['Latitude'], geodf['Longitude'], geodf['City']):\n    label = '{}'.format(neighborhood)\n    label = folium.Popup(label, parse_html=True)\n    folium.CircleMarker(\n        [lat, lng],\n        radius=5,\n        popup=label,\n        color='red',\n        fill=True,\n        fill_color='#3186cc',\n        fill_opacity=0.7,\n        parse_html=False).add_to(map_florida)  \n    \nmap_florida"
        },
        {
            "cell_type": "markdown",
            "metadata": {},
            "source": "Now that we can better visualize both of these cities, we will use the *Foursquare API* to get a better picture of the venues currently in each city. We will focus on looking at the quantity of venues in both cities as they will likely be competition for our investor's business. "
        },
        {
            "cell_type": "code",
            "execution_count": null,
            "metadata": {},
            "outputs": [],
            "source": "#Defining Foursquare Credentials and Version\nCLIENT_ID = 'GTOMCPHDW2AUB3XTEMC2SD0JAXTIQKMSCEOBFAUWUYS3NE5Q' \nCLIENT_SECRET = '4D214225TQNKRP33E0RN3P2L0WLIIXX1DWZPYIXT0SBD23BP'\nVERSION = '20180604'"
        },
        {
            "cell_type": "code",
            "execution_count": null,
            "metadata": {},
            "outputs": [],
            "source": "def getNearbyVenues(names, latitudes, longitudes, radius=500):\n    LIMIT = 100 # Maximum number of venues returned by Foursquare API\n    radius = 500 \n    venuesoj=[]\n    for name, lat, lng in zip(names, latitudes, longitudes):\n        print(name)\n            \n        # Defining the corresponding URL\n        url = 'https://api.foursquare.com/v2/venues/explore?&client_id={}&client_secret={}&v={}&ll={},{}&radius={}&limit={}'.format(\n            CLIENT_ID, \n            CLIENT_SECRET, \n            VERSION, \n            lat, \n            lng, \n            radius, \n            LIMIT)\n        \n        # Sending GET Request\n        results = requests.get(url).json()[\"response\"]['groups'][0]['items']\n        \n        # Assigning relevant part of JSON to venues\n        venuesoj.append([(\n            name, \n            lat, \n            lng, \n            v['venue']['name'], \n            v['venue']['location']['lat'], \n            v['venue']['location']['lng'],  \n            v['venue']['categories'][0]['name']) for v in results])\n\n    nearbyvenues = pd.DataFrame([item for venueoj in venues_list for item in venueoj])\n    nearbyvenues.columns = ['City', \n                  'City Latitude', \n                  'City Longitude', \n                  'Venue', \n                  'Venue Latitude', \n                  'Venue Longitude', \n                  'Venue Category']\n    \n    return(nearbyvenues)"
        },
        {
            "cell_type": "code",
            "execution_count": null,
            "metadata": {},
            "outputs": [],
            "source": "#Getting venues for both cities in our dataset\nvenues = getNearbyVenues(names=geodf['City'],\n                                latitudes=geodf['Latitude'],\n                                longitudes=geodf['Longitude'])"
        },
        {
            "cell_type": "code",
            "execution_count": null,
            "metadata": {},
            "outputs": [],
            "source": "#Viewing data\nvenues.head()"
        },
        {
            "cell_type": "code",
            "execution_count": null,
            "metadata": {},
            "outputs": [],
            "source": "#Grouping data by city\nvenuecount=venues.groupby('City').count()\nvenuecount[\"Venue\"].rank #Ranking data based on city with most venues"
        },
        {
            "cell_type": "markdown",
            "metadata": {},
            "source": "Using the Foursquare API we are able to see that Jacksonville, FL has a larger quantity of venues than that observed in Orlando, FL. While we are only able to view 100 venues using the Foursquare API this information is still noteworthy to investors."
        },
        {
            "cell_type": "markdown",
            "metadata": {},
            "source": "## Results\nIn this analysis we focused on three specific factors to help advice investors on what Sunshine State city they should open their business in, Orlando, FL or Jacksonville FL. \n1. Population size: In analysis the population size of both cities we see that Jacksonville FL has a population of 926,315. This is over triple the population size of Orlando with a population of 291,800.\n2. Crime statistics: As we examined the data on crime in both of these cities we find that Orlando FL has a crime rate of 5,571.3 per 100,000 population, compared to 3883.6 per 100,000 population in Jacksonville FL. \n3. Other venues in the area: Using the Foursquare API, we saw that Jacksonville FL had a larger amount of venues in the city, compared to the number in Orlando."
        },
        {
            "cell_type": "markdown",
            "metadata": {},
            "source": "## Discussion\nBased on the results observed during this analysis I would advise the investors to open their business in Jacksonville, FL. Jacksonville's larger population size gives the potential investors a large range of potential customers. This will be key in ensuring the success of the business. Jacksonville also has a significantly lower crime rate per 100,000 population which is very important to consider when deciding to invest money into the city. The larger number of venues in Jacksonville in comparision to Orlando may have been a deterrent if it hadn't been for Jacksonville's larger population, with that in consideration, Jacksonville being three times as larger, Orlando would still have a larger number of venues per person. "
        },
        {
            "cell_type": "markdown",
            "metadata": {},
            "source": "## Conclusion \nIn this study, I was able to analysis two different cities on important factors that are important when considered a business problem. I was able to use various data analysis and visualization tools, such as a geocoder, the Foursquare API, and many more. While the scope of my analysis into both of the cities has been limited, I believe that with the analysis conducted Jacksonville, FL is the right choice to invest in."
        }
    ],
    "metadata": {
        "kernelspec": {
            "display_name": "Python 3.6",
            "language": "python",
            "name": "python3"
        },
        "language_info": {
            "codemirror_mode": {
                "name": "ipython",
                "version": 3
            },
            "file_extension": ".py",
            "mimetype": "text/x-python",
            "name": "python",
            "nbconvert_exporter": "python",
            "pygments_lexer": "ipython3",
            "version": "3.6.9"
        }
    },
    "nbformat": 4,
    "nbformat_minor": 1
}