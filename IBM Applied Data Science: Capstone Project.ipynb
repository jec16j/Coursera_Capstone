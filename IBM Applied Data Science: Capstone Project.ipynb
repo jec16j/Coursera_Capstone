{
    "cells": [
        {
            "cell_type": "markdown",
            "metadata": {
                "collapsed": true
            },
            "source": "# The Battle of the Neighborhoods: Opening A Restaurant in Orlando, FL\n\n\n## Introduction/Business Problem \n\nOrlando is a major city in the Central Florida that is known for its high volumes of tourism. The city attracts tourist through attractions, such as Walt Disney World and Universal Studios, as well as being at popular location for conferences and conventions. This level of tourism makes opening a business in the city very attractive. \nThis study is being conducted in order to assist a group of investors in determining which Orlando neighborhood would be best suited for their business. Specifically the investors are interested in opening a *Cuban restaurant.* \n\n## Data\nIn order to recommend a neighborhood to the investors, we must analyze data on various neighborhoods in Orlando, FL. We will consider the following factors in our decision:\n1. Population size \n2. Crime statistics\n3. Other restaurants in the area\n   * *Specifically Latin restaurants*\n\n**Data Sources:** \n\n1. *<a href=\"https://www.census.gov/quickfacts/\" target=\"_blank\">United States Census Bureau</a>*\n        The U.S. Census Bureau's QuickFacts data provides basic population, business, and geography statistics. This is used to obtain population statistics for 10 Orlando neighborhoods.\n    \n2. *<a href=\"https://www.latlong.net/\" target=\"_blank\">LatLong.net</a>*\n        LatLong.net is an online geographic tool that can be used to lookup latitude and longitude of a place. This is used to identify the geographic coordinates of the 10 neighborhoods being considered.\n\n3. *<a href=\"https://data.cityoforlando.net/Orlando-Police/OPD-Crimes/4y9m-jbmz\" target=\"_blank\">Orlando Police Department Records Management System</a>*\n        The data is described as including:  \"...all Part 1 and Part 2 crimes as defined by the FBI\u2019s Uniform Crime Reporting standards. When multiple crimes are committed the highest level of crime is what is shown. The data includes only Open and Closed cases and does not include informational cases without arrests. This data excludes crimes where the victim or offender data is or could be legally protected.\" This data set is used to evaluate the level of crime present in a neighborhood. \n    \n4. *<a href=\"https://foursquare.com/\" target=\"_blank\">Foursquare</a>*\n        The Foursquare API provides location based data on venues and users. This tool will be used to analyze current neighborhood venues.\n    "
        },
        {
            "cell_type": "code",
            "execution_count": null,
            "metadata": {},
            "outputs": [],
            "source": ""
        }
    ],
    "metadata": {
        "kernelspec": {
            "display_name": "Python 3.6",
            "language": "python",
            "name": "python3"
        },
        "language_info": {
            "codemirror_mode": {
                "name": "ipython",
                "version": 3
            },
            "file_extension": ".py",
            "mimetype": "text/x-python",
            "name": "python",
            "nbconvert_exporter": "python",
            "pygments_lexer": "ipython3",
            "version": "3.6.9"
        }
    },
    "nbformat": 4,
    "nbformat_minor": 1
}