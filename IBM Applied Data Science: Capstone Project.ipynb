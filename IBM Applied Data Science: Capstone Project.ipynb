{
    "cells": [
        {
            "cell_type": "markdown",
            "metadata": {
                "collapsed": true
            },
            "source": "# The Battle of the Neighborhoods: Sunshine State\n\n\n## Introduction/Business Problem \nFlorida, aka the Sunshine State, is the third most populous state in the United States, with a population over 21 million (U.S. Census Bureau). \n\nOrlando and Jacksonville are two of the most popular cities in Florida. Orlando is located in Central Florida and is largely known for its high volumes of tourism. Orlando attracts tourist through attractions, such as Walt Disney World and Universal Studios, as well as being at popular location for conferences and conventions. Jacksonville is approximately 140 miles northwest of Orlando and is the most populous municipality in Florida. Jacksonville also attracts tourist with its beautiful beaches along the Atlantic Coast, as well as golf tourism.\n\nThis study is being conducted in order to assist a group of investors in determining which Florida city, Orlando or Jacksonville, would be best suited for their business. \n\n## Data\nIn order to recommend one of the two cities to the investors, we must analyze data on both Orlando and Jacksonville. We will consider the following factors in our decision:\n1. Population size \n2. Crime statistics\n3. Other venues in the area\n   \n\n**Data Sources:** \n\n1. *<a href=\"https://www.fdle.state.fl.us/FSAC/Data-Statistics/UCR-Offense-Data.aspx\" target=\"_blank\">Florida Department of Law Enforcement</a>*\n        The data is provided by the FDLE's Uniform Crime Report (UCR) system. This system provides \"standardized reports on crime statistics based on data gathered from across the state. Reports that provide both summary and detail information are issued semi-annually and annually.\" We will be using the Total Index Crime for Florida by Jurisdiction, 2019 data to evaluate the population and level of crime present in each city. \n    \n2. *Geocoder package*\n        The Geocodes package finds the latitude and longitude of a location using the Google Geocoding API. This is used to identify the geographic coordinates of the two cities.\n\n3. *<a href=\"https://foursquare.com/\" target=\"_blank\">Foursquare</a>*\n        The Foursquare API provides location based data on venues and users. This tool will be used to analyze current venues that may be considered competition.\n    "
        },
        {
            "cell_type": "markdown",
            "metadata": {},
            "source": "## Methodology\n\nIn order to determine the optimal city for opening a business , we will analysis different characteristics of both cities being considered."
        },
        {
            "cell_type": "markdown",
            "metadata": {},
            "source": "### Exploratory Data Analysis\n\nWe will begin by looking at the population and safety of both of the cities. To do so we must first import the necessary libraries."
        },
        {
            "cell_type": "code",
            "execution_count": 1,
            "metadata": {
                "scrolled": true
            },
            "outputs": [
                {
                    "name": "stdout",
                    "output_type": "stream",
                    "text": "Requirement already satisfied: geopy in /opt/conda/envs/Python36/lib/python3.6/site-packages (1.22.0)\nRequirement already satisfied: geographiclib<2,>=1.49 in /opt/conda/envs/Python36/lib/python3.6/site-packages (from geopy) (1.50)\nSolving environment: done\n\n# All requested packages already installed.\n\nSolving environment: done\n\n# All requested packages already installed.\n\nLibraries imported.\n"
                }
            ],
            "source": "# Importing necessary libraries \n!pip install geopy\nimport numpy as np # library to handle data in a vectorized manner\n\nimport pandas as pd # library for data analsysis\npd.set_option('display.max_columns', None)\npd.set_option('display.max_rows', None)\n\nimport json # library to handle JSON files\n\n!conda install -c conda-forge geopy --yes \nfrom geopy.geocoders import Nominatim # convert an address into latitude and longitude values\n\nimport requests # library to handle requests\nfrom pandas.io.json import json_normalize # transform JSON file into a pandas dataframe\n\n# Matplotlib and associated plotting modules\nimport matplotlib.cm as cm\nimport matplotlib.colors as colors\n\n# import k-means from clustering stage\nfrom sklearn.cluster import KMeans\n\n!conda install -c conda-forge folium=0.5.0 --yes \nimport folium # map rendering library\n\nprint('Libraries imported.')"
        },
        {
            "cell_type": "markdown",
            "metadata": {},
            "source": "We begin looking at our Total Index Crime for Florida by Jurisdiction (2019) data provided by the Florida Department of Law Enforcement."
        },
        {
            "cell_type": "code",
            "execution_count": 4,
            "metadata": {},
            "outputs": [
                {
                    "data": {
                        "text/html": "<div>\n<style scoped>\n    .dataframe tbody tr th:only-of-type {\n        vertical-align: middle;\n    }\n\n    .dataframe tbody tr th {\n        vertical-align: top;\n    }\n\n    .dataframe thead th {\n        text-align: right;\n    }\n</style>\n<table border=\"1\" class=\"dataframe\">\n  <thead>\n    <tr style=\"text-align: right;\">\n      <th></th>\n      <th>County</th>\n      <th>Agency</th>\n      <th>Year</th>\n      <th>Population</th>\n      <th>Total Index Crimes</th>\n      <th>Crime Rate per 100,000 Population</th>\n      <th>Murder</th>\n      <th>Murder Clearances</th>\n      <th>Rape^</th>\n      <th>Rape Clearances</th>\n      <th>Robbery</th>\n      <th>Robbery Clearances</th>\n      <th>Aggravated Assault^^</th>\n      <th>Aggravated Assault Clearances</th>\n      <th>Burglary</th>\n      <th>Burglary Clearances</th>\n      <th>Larceny</th>\n      <th>Larceny Clearances</th>\n      <th>Motor Vehicle Theft</th>\n      <th>Motor Vehicle Theft Clearances</th>\n      <th>Total Clearances</th>\n      <th>Clearance Rate per 100 Offenses</th>\n    </tr>\n  </thead>\n  <tbody>\n    <tr>\n      <th>0</th>\n      <td>01-ALACHUA</td>\n      <td>Alachua County Sheriff's Office</td>\n      <td>2019.0</td>\n      <td>117496.0</td>\n      <td>2555</td>\n      <td>2174.5</td>\n      <td>4</td>\n      <td>6</td>\n      <td>111</td>\n      <td>40</td>\n      <td>99</td>\n      <td>57</td>\n      <td>524</td>\n      <td>269</td>\n      <td>414</td>\n      <td>59</td>\n      <td>1260</td>\n      <td>146</td>\n      <td>143</td>\n      <td>37</td>\n      <td>614</td>\n      <td>24</td>\n    </tr>\n    <tr>\n      <th>1</th>\n      <td>01-ALACHUA</td>\n      <td>Gainesville Police Department</td>\n      <td>2019.0</td>\n      <td>133068.0</td>\n      <td>5640</td>\n      <td>4238.4</td>\n      <td>2</td>\n      <td>1</td>\n      <td>153</td>\n      <td>39</td>\n      <td>185</td>\n      <td>74</td>\n      <td>588</td>\n      <td>275</td>\n      <td>501</td>\n      <td>78</td>\n      <td>3803</td>\n      <td>893</td>\n      <td>408</td>\n      <td>89</td>\n      <td>1449</td>\n      <td>25.7</td>\n    </tr>\n    <tr>\n      <th>2</th>\n      <td>01-ALACHUA</td>\n      <td>High Springs Police Department</td>\n      <td>2019.0</td>\n      <td>6444.0</td>\n      <td>180</td>\n      <td>2793.3</td>\n      <td>0</td>\n      <td>0</td>\n      <td>3</td>\n      <td>2</td>\n      <td>1</td>\n      <td>1</td>\n      <td>24</td>\n      <td>11</td>\n      <td>34</td>\n      <td>6</td>\n      <td>110</td>\n      <td>34</td>\n      <td>8</td>\n      <td>6</td>\n      <td>60</td>\n      <td>33.3</td>\n    </tr>\n    <tr>\n      <th>3</th>\n      <td>01-ALACHUA</td>\n      <td>University of Florida Police Department</td>\n      <td>2019.0</td>\n      <td>0.0</td>\n      <td>318</td>\n      <td>NaN</td>\n      <td>0</td>\n      <td>0</td>\n      <td>10</td>\n      <td>0</td>\n      <td>1</td>\n      <td>1</td>\n      <td>5</td>\n      <td>3</td>\n      <td>22</td>\n      <td>6</td>\n      <td>258</td>\n      <td>50</td>\n      <td>22</td>\n      <td>7</td>\n      <td>67</td>\n      <td>21.1</td>\n    </tr>\n    <tr>\n      <th>4</th>\n      <td>01-ALACHUA</td>\n      <td>Alachua Police Department</td>\n      <td>2019.0</td>\n      <td>10298.0</td>\n      <td>271</td>\n      <td>2631.6</td>\n      <td>0</td>\n      <td>0</td>\n      <td>4</td>\n      <td>2</td>\n      <td>7</td>\n      <td>6</td>\n      <td>30</td>\n      <td>13</td>\n      <td>32</td>\n      <td>3</td>\n      <td>191</td>\n      <td>32</td>\n      <td>7</td>\n      <td>1</td>\n      <td>57</td>\n      <td>21</td>\n    </tr>\n  </tbody>\n</table>\n</div>",
                        "text/plain": "       County                                   Agency    Year  Population  \\\n0  01-ALACHUA          Alachua County Sheriff's Office  2019.0    117496.0   \n1  01-ALACHUA            Gainesville Police Department  2019.0    133068.0   \n2  01-ALACHUA           High Springs Police Department  2019.0      6444.0   \n3  01-ALACHUA  University of Florida Police Department  2019.0         0.0   \n4  01-ALACHUA                Alachua Police Department  2019.0     10298.0   \n\n  Total Index Crimes Crime Rate per 100,000 Population Murder  \\\n0               2555                            2174.5      4   \n1               5640                            4238.4      2   \n2                180                            2793.3      0   \n3                318                               NaN      0   \n4                271                            2631.6      0   \n\n  Murder Clearances Rape^ Rape Clearances Robbery Robbery Clearances  \\\n0                 6   111              40      99                 57   \n1                 1   153              39     185                 74   \n2                 0     3               2       1                  1   \n3                 0    10               0       1                  1   \n4                 0     4               2       7                  6   \n\n  Aggravated Assault^^ Aggravated Assault Clearances Burglary  \\\n0                  524                           269      414   \n1                  588                           275      501   \n2                   24                            11       34   \n3                    5                             3       22   \n4                   30                            13       32   \n\n  Burglary Clearances Larceny Larceny Clearances Motor Vehicle Theft  \\\n0                  59    1260                146                 143   \n1                  78    3803                893                 408   \n2                   6     110                 34                   8   \n3                   6     258                 50                  22   \n4                   3     191                 32                   7   \n\n  Motor Vehicle Theft Clearances Total Clearances  \\\n0                             37              614   \n1                             89             1449   \n2                              6               60   \n3                              7               67   \n4                              1               57   \n\n  Clearance Rate per 100 Offenses  \n0                              24  \n1                            25.7  \n2                            33.3  \n3                            21.1  \n4                              21  "
                    },
                    "execution_count": 4,
                    "metadata": {},
                    "output_type": "execute_result"
                }
            ],
            "source": "#Downloading data into dataframes using Pandas library\norl_jax=pd.read_excel('https://github.com/jec16j/Coursera_Capstone/blob/master/FL_Index_Crime_by_Jurisdiction_2019.xlsx?raw=true')\norl_jax.head()"
        },
        {
            "cell_type": "markdown",
            "metadata": {},
            "source": "We see that this data provides information on a county/agency level. We observe 2019 data on the population of each county as well as the Total Index Crimes, Crime Rate per 100,000 Population, and then specifications on the type of crime and their clearance rates such as: Murder, Murder Clearances,\tRape, Rape Clearances, Robbery,\tRobbery Clearances,\tAggravated Assault, Aggravated Assault Clearances, Burglary, Burglary Clearances, Larceny, Larceny Clearances,\tMotor Vehicle Theft, Motor Vehicle Theft Clearances, Total Clearances, and Clearance Rate per 100 Offenses. \n\nFor this analysis we will focus the population and total crime rate per 100,000 residents, for Orlando and Jacksonville. We will look at data from the Orlando Police Department and Jacksonville Sheriff's Office. "
        },
        {
            "cell_type": "code",
            "execution_count": 10,
            "metadata": {},
            "outputs": [
                {
                    "data": {
                        "text/html": "<div>\n<style scoped>\n    .dataframe tbody tr th:only-of-type {\n        vertical-align: middle;\n    }\n\n    .dataframe tbody tr th {\n        vertical-align: top;\n    }\n\n    .dataframe thead th {\n        text-align: right;\n    }\n</style>\n<table border=\"1\" class=\"dataframe\">\n  <thead>\n    <tr style=\"text-align: right;\">\n      <th></th>\n      <th>Agency</th>\n      <th>Population</th>\n      <th>Total Index Crimes</th>\n      <th>Crime Rate per 100,000 Population</th>\n    </tr>\n  </thead>\n  <tbody>\n    <tr>\n      <th>188</th>\n      <td>Jacksonville Sheriff's Office</td>\n      <td>926315.0</td>\n      <td>35974</td>\n      <td>3883.6</td>\n    </tr>\n    <tr>\n      <th>455</th>\n      <td>Orlando Police Department</td>\n      <td>291800.0</td>\n      <td>16257</td>\n      <td>5571.3</td>\n    </tr>\n  </tbody>\n</table>\n</div>",
                        "text/plain": "                            Agency  Population Total Index Crimes  \\\n188  Jacksonville Sheriff's Office    926315.0              35974   \n455      Orlando Police Department    291800.0              16257   \n\n    Crime Rate per 100,000 Population  \n188                            3883.6  \n455                            5571.3  "
                    },
                    "execution_count": 10,
                    "metadata": {},
                    "output_type": "execute_result"
                }
            ],
            "source": "#Selecting the data we need\norl_jax.set_index('Agency')\nrows=[188, 455] \ncolumns=['Agency','Population','Total Index Crimes','Crime Rate per 100,000 Population']\norl_jax.loc[rows,columns]"
        },
        {
            "cell_type": "markdown",
            "metadata": {},
            "source": "The data we obtained gives us information of the safety of each of these Florida cities. While we see that the total index of crimes in Jacksonville Florida are double that of Orlando FL, the population of Jacksonville more than triples that of Orlando. The crime rate per 100,000 people in the population makes comparing the safety of both cities easier. Jacksonville's crime rate is substantially lower therefore we determine that Jacksonville is the safer city. Jacksonville also has the largest population which is beneficial to new business owners who will need to ensure they have a large amount of potential customers. Both of these things will be important to make investors aware of before they make their decision. "
        },
        {
            "cell_type": "markdown",
            "metadata": {},
            "source": "We will now visualize our data by creating a map using Folium to better see where in Florida both of these cities are located."
        },
        {
            "cell_type": "code",
            "execution_count": 11,
            "metadata": {},
            "outputs": [
                {
                    "name": "stdout",
                    "output_type": "stream",
                    "text": "Orlando, FL: (28.5479786, -81.41278418563017)\nJacksonville, FL: (30.3321838, -81.655651)\n"
                }
            ],
            "source": "#Using Nominatim from geopy.geocoders to obtain the logititudes and latitudes of both cities \ngeolocator = Nominatim(user_agent=\"cruzerj10@gmail.com\")\norl = geolocator.geocode(\"Orlando FL\")\njax = geolocator.geocode(\"Jacksonville FL\")\nprint(\"Orlando, FL:\", (orl.latitude, orl.longitude))\nprint(\"Jacksonville, FL:\",(jax.latitude, jax.longitude))"
        },
        {
            "cell_type": "code",
            "execution_count": 12,
            "metadata": {},
            "outputs": [
                {
                    "data": {
                        "text/html": "<div>\n<style scoped>\n    .dataframe tbody tr th:only-of-type {\n        vertical-align: middle;\n    }\n\n    .dataframe tbody tr th {\n        vertical-align: top;\n    }\n\n    .dataframe thead th {\n        text-align: right;\n    }\n</style>\n<table border=\"1\" class=\"dataframe\">\n  <thead>\n    <tr style=\"text-align: right;\">\n      <th></th>\n      <th>City</th>\n      <th>Latitude</th>\n      <th>Longitude</th>\n    </tr>\n  </thead>\n  <tbody>\n    <tr>\n      <th>0</th>\n      <td>Orlando</td>\n      <td>28.547979</td>\n      <td>-81.412784</td>\n    </tr>\n    <tr>\n      <th>1</th>\n      <td>Jacksonville</td>\n      <td>30.332184</td>\n      <td>-81.655651</td>\n    </tr>\n  </tbody>\n</table>\n</div>",
                        "text/plain": "           City   Latitude  Longitude\n0       Orlando  28.547979 -81.412784\n1  Jacksonville  30.332184 -81.655651"
                    },
                    "execution_count": 12,
                    "metadata": {},
                    "output_type": "execute_result"
                }
            ],
            "source": "#Creating a dataframe in pandas to store our location data cleanly \na={'City': [\"Orlando\",\"Jacksonville\"], \"Latitude\":[(orl.latitude),(jax.latitude)],\"Longitude\":[(orl.longitude),(jax.longitude)]}\ngeodf=pd.DataFrame(data=a)\ngeodf"
        },
        {
            "cell_type": "code",
            "execution_count": 13,
            "metadata": {},
            "outputs": [],
            "source": "#Obtaining the latitude and longitude of Florida for our map\nlocation = geolocator.geocode(\"Florida USA\")\nlatitude = location.latitude\nlongitude = location.longitude"
        },
        {
            "cell_type": "code",
            "execution_count": 14,
            "metadata": {},
            "outputs": [
                {
                    "data": {
                        "text/html": "<div style=\"width:100%;\"><div style=\"position:relative;width:100%;height:0;padding-bottom:60%;\"><span style=\"color:#565656\">Make this Notebook Trusted to load map: File -> Trust Notebook</span><iframe src=\"about:blank\" style=\"position:absolute;width:100%;height:100%;left:0;top:0;border:none !important;\" data-html=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 onload=\"this.contentDocument.open();this.contentDocument.write(atob(this.getAttribute('data-html')));this.contentDocument.close();\" allowfullscreen webkitallowfullscreen mozallowfullscreen></iframe></div></div>",
                        "text/plain": "<folium.folium.Map at 0x7fbefcb9d780>"
                    },
                    "execution_count": 14,
                    "metadata": {},
                    "output_type": "execute_result"
                }
            ],
            "source": "#Generating a map using Folium\nmap_florida = folium.Map(location=[latitude,longitude], zoom_start=6)\n\n# add markers to map\nfor lat, lng, neighborhood in zip(geodf['Latitude'], geodf['Longitude'], geodf['City']):\n    label = '{}'.format(neighborhood)\n    label = folium.Popup(label, parse_html=True)\n    folium.CircleMarker(\n        [lat, lng],\n        radius=5,\n        popup=label,\n        color='red',\n        fill=True,\n        fill_color='#3186cc',\n        fill_opacity=0.7,\n        parse_html=False).add_to(map_florida)  \n    \nmap_florida"
        },
        {
            "cell_type": "markdown",
            "metadata": {},
            "source": "Now that we can better visualize both of these cities, we will use the *Foursquare API* to get a better picture of the venues currently in each city. We will focus on looking at the quantity of venues in both cities as they will likely be competition for our investor's business. "
        },
        {
            "cell_type": "code",
            "execution_count": 15,
            "metadata": {},
            "outputs": [],
            "source": "#Defining Foursquare Credentials and Version\nCLIENT_ID = 'GTOMCPHDW2AUB3XTEMC2SD0JAXTIQKMSCEOBFAUWUYS3NE5Q' \nCLIENT_SECRET = '4D214225TQNKRP33E0RN3P2L0WLIIXX1DWZPYIXT0SBD23BP'\nVERSION = '20180604'"
        },
        {
            "cell_type": "code",
            "execution_count": 20,
            "metadata": {},
            "outputs": [],
            "source": "def getNearbyVenues(names, latitudes, longitudes, radius=500):\n    LIMIT = 100 # Maximum number of venues returned by Foursquare API\n    radius = 500 \n    venuesoj=[]\n    for name, lat, lng in zip(names, latitudes, longitudes):\n        print(name)\n            \n        # Defining the corresponding URL\n        url = 'https://api.foursquare.com/v2/venues/explore?&client_id={}&client_secret={}&v={}&ll={},{}&radius={}&limit={}'.format(\n            CLIENT_ID, \n            CLIENT_SECRET, \n            VERSION, \n            lat, \n            lng, \n            radius, \n            LIMIT)\n        \n        # Sending GET Request\n        results = requests.get(url).json()[\"response\"]['groups'][0]['items']\n        \n        # Assigning relevant part of JSON to venues\n        venuesoj.append([(\n            name, \n            lat, \n            lng, \n            v['venue']['name'], \n            v['venue']['location']['lat'], \n            v['venue']['location']['lng'],  \n            v['venue']['categories'][0]['name']) for v in results])\n\n    nearbyvenues = pd.DataFrame([item for venuesoj in venuesoj for item in venuesoj])\n    nearbyvenues.columns = ['City', \n                  'City Latitude', \n                  'City Longitude', \n                  'Venue', \n                  'Venue Latitude', \n                  'Venue Longitude', \n                  'Venue Category']\n    \n    return(nearbyvenues)"
        },
        {
            "cell_type": "code",
            "execution_count": 21,
            "metadata": {},
            "outputs": [
                {
                    "name": "stdout",
                    "output_type": "stream",
                    "text": "Orlando\nJacksonville\n"
                }
            ],
            "source": "#Getting venues for both cities in our dataset\nvenues = getNearbyVenues(names=geodf['City'],\n                                latitudes=geodf['Latitude'],\n                                longitudes=geodf['Longitude'])"
        },
        {
            "cell_type": "code",
            "execution_count": 22,
            "metadata": {},
            "outputs": [
                {
                    "data": {
                        "text/html": "<div>\n<style scoped>\n    .dataframe tbody tr th:only-of-type {\n        vertical-align: middle;\n    }\n\n    .dataframe tbody tr th {\n        vertical-align: top;\n    }\n\n    .dataframe thead th {\n        text-align: right;\n    }\n</style>\n<table border=\"1\" class=\"dataframe\">\n  <thead>\n    <tr style=\"text-align: right;\">\n      <th></th>\n      <th>City</th>\n      <th>City Latitude</th>\n      <th>City Longitude</th>\n      <th>Venue</th>\n      <th>Venue Latitude</th>\n      <th>Venue Longitude</th>\n      <th>Venue Category</th>\n    </tr>\n  </thead>\n  <tbody>\n    <tr>\n      <th>0</th>\n      <td>Orlando</td>\n      <td>28.547979</td>\n      <td>-81.412784</td>\n      <td>Caribbean Sunshine Bakery</td>\n      <td>28.550942</td>\n      <td>-81.412459</td>\n      <td>Caribbean Restaurant</td>\n    </tr>\n    <tr>\n      <th>1</th>\n      <td>Orlando</td>\n      <td>28.547979</td>\n      <td>-81.412784</td>\n      <td>Orange County Sheriff's Office</td>\n      <td>28.551151</td>\n      <td>-81.411204</td>\n      <td>Office</td>\n    </tr>\n    <tr>\n      <th>2</th>\n      <td>Orlando</td>\n      <td>28.547979</td>\n      <td>-81.412784</td>\n      <td>BP</td>\n      <td>28.546179</td>\n      <td>-81.413117</td>\n      <td>Gas Station</td>\n    </tr>\n    <tr>\n      <th>3</th>\n      <td>Orlando</td>\n      <td>28.547979</td>\n      <td>-81.412784</td>\n      <td>7-Eleven</td>\n      <td>28.552263</td>\n      <td>-81.414344</td>\n      <td>Convenience Store</td>\n    </tr>\n    <tr>\n      <th>4</th>\n      <td>Orlando</td>\n      <td>28.547979</td>\n      <td>-81.412784</td>\n      <td>Shell</td>\n      <td>28.549100</td>\n      <td>-81.413107</td>\n      <td>Gas Station</td>\n    </tr>\n  </tbody>\n</table>\n</div>",
                        "text/plain": "      City  City Latitude  City Longitude                           Venue  \\\n0  Orlando      28.547979      -81.412784       Caribbean Sunshine Bakery   \n1  Orlando      28.547979      -81.412784  Orange County Sheriff's Office   \n2  Orlando      28.547979      -81.412784                              BP   \n3  Orlando      28.547979      -81.412784                        7-Eleven   \n4  Orlando      28.547979      -81.412784                           Shell   \n\n   Venue Latitude  Venue Longitude        Venue Category  \n0       28.550942       -81.412459  Caribbean Restaurant  \n1       28.551151       -81.411204                Office  \n2       28.546179       -81.413117           Gas Station  \n3       28.552263       -81.414344     Convenience Store  \n4       28.549100       -81.413107           Gas Station  "
                    },
                    "execution_count": 22,
                    "metadata": {},
                    "output_type": "execute_result"
                }
            ],
            "source": "#Viewing data\nvenues.head()"
        },
        {
            "cell_type": "code",
            "execution_count": 23,
            "metadata": {},
            "outputs": [
                {
                    "data": {
                        "text/plain": "<bound method NDFrame.rank of City\nJacksonville    21\nOrlando          9\nName: Venue, dtype: int64>"
                    },
                    "execution_count": 23,
                    "metadata": {},
                    "output_type": "execute_result"
                }
            ],
            "source": "#Grouping data by city\nvenuecount=venues.groupby('City').count()\nvenuecount[\"Venue\"].rank #Ranking data based on city with most venues"
        },
        {
            "cell_type": "markdown",
            "metadata": {},
            "source": "Using the Foursquare API we are able to see that Jacksonville, FL has a larger quantity of venues than that observed in Orlando, FL. While we are only able to view 100 venues using the Foursquare API this information is still noteworthy to investors."
        },
        {
            "cell_type": "markdown",
            "metadata": {},
            "source": "## Results\nIn this analysis we focused on three specific factors to help advice investors on what Sunshine State city they should open their business in, Orlando, FL or Jacksonville FL. \n1. Population size: In analysis the population size of both cities we see that Jacksonville FL has a population of 926,315. This is over triple the population size of Orlando with a population of 291,800.\n2. Crime statistics: As we examined the data on crime in both of these cities we find that Orlando FL has a crime rate of 5,571.3 per 100,000 population, compared to 3883.6 per 100,000 population in Jacksonville FL. \n3. Other venues in the area: Using the Foursquare API, we saw that Jacksonville FL had a larger amount of venues in the city, compared to the number in Orlando."
        },
        {
            "cell_type": "markdown",
            "metadata": {},
            "source": "## Discussion\nBased on the results observed during this analysis I would advise the investors to open their business in Jacksonville, FL. Jacksonville's larger population size gives the potential investors a large range of potential customers. This will be key in ensuring the success of the business. Jacksonville also has a significantly lower crime rate per 100,000 population which is very important to consider when deciding to invest money into the city. The larger number of venues in Jacksonville in comparision to Orlando may have been a deterrent if it hadn't been for Jacksonville's larger population, with that in consideration, Jacksonville being three times as larger, Orlando would still have a larger number of venues per person. "
        },
        {
            "cell_type": "markdown",
            "metadata": {},
            "source": "## Conclusion \nIn this study, I was able to analysis two different cities on important factors that are important when considered a business problem. I was able to use various data analysis and visualization tools, such as a geocoder, the Foursquare API, and many more. While the scope of my analysis into both of the cities has been limited, I believe that with the analysis conducted Jacksonville, FL is the right choice to invest in."
        },
        {
            "cell_type": "code",
            "execution_count": null,
            "metadata": {},
            "outputs": [],
            "source": ""
        }
    ],
    "metadata": {
        "kernelspec": {
            "display_name": "Python 3.6",
            "language": "python",
            "name": "python3"
        },
        "language_info": {
            "codemirror_mode": {
                "name": "ipython",
                "version": 3
            },
            "file_extension": ".py",
            "mimetype": "text/x-python",
            "name": "python",
            "nbconvert_exporter": "python",
            "pygments_lexer": "ipython3",
            "version": "3.6.9"
        }
    },
    "nbformat": 4,
    "nbformat_minor": 1
}