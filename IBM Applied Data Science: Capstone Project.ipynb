{
    "cells": [
        {
            "cell_type": "markdown",
            "metadata": {
                "collapsed": true
            },
            "source": "# The Battle of the Neighborhoods: Opening A Restaurant in Orlando, FL\n\n\n##Introduction/Business Problem \n\n###Orlando is a major city in the Central Florida that is known for its high volumes of tourism. The city attracts tourist through attractions, such as Walt Disney World and Universal Studios, as well as being at popular location for conferences and conventions. This level of tourism makes opening a business in the city very attractive. \n###This study is being conducted in order to assist a group of investors in determining which Orlando neighborhood would be best suited for their business. Specifically these investors are interested in opening a **Cuban restaurant.** \n\n##Data\n###In order to recommend a neighborhood to the investors, we must analyze data on the various neighborhoods in Orlando, FL. We will focus on "
        }
    ],
    "metadata": {
        "kernelspec": {
            "display_name": "Python 3.6",
            "language": "python",
            "name": "python3"
        },
        "language_info": {
            "codemirror_mode": {
                "name": "ipython",
                "version": 3
            },
            "file_extension": ".py",
            "mimetype": "text/x-python",
            "name": "python",
            "nbconvert_exporter": "python",
            "pygments_lexer": "ipython3",
            "version": "3.6.9"
        }
    },
    "nbformat": 4,
    "nbformat_minor": 1
}